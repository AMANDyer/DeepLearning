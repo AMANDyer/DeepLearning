{
 "cells": [
  {
   "cell_type": "markdown",
   "id": "f5e08694-7b7e-4130-a4f7-7e46f543668b",
   "metadata": {},
   "source": [
    "introduction to DEEP Learning\n",
    "when complexity is high ....> use DL\n",
    "in ML ,we can decide what type of data we are using , what will be the output,\n",
    "what is the process but in dee[ learning ,we can have only input and output data it is using\n",
    "hidden layers for processing the data so that's why it is considered as \"Representative Learning\""
   ]
  },
  {
   "cell_type": "markdown",
   "id": "e100cb3b-0317-4958-9684-37aadd2fc576",
   "metadata": {},
   "source": [
    "Workflow of DL\n",
    "..> Data Ingestion...> Data cleaning and preprocessing ... model training .... model prediction....> performance evaluation\n"
   ]
  },
  {
   "cell_type": "markdown",
   "id": "fbb08816-605d-4386-a5a7-5005a135fcec",
   "metadata": {},
   "source": [
    "workflow of DL\n",
    "data ingestion ..> data cleaning ND Preprocessing..>\n",
    "#Model Sequential(\n",
    "  input_layer(Neurons,activation_function,input_dimenstion=data.shape),\n",
    "  hidden_layer(Neurons,activation_function),\n",
    "  output_layer(neurons)\n",
    ")\n",
    "\n",
    "#Model.compile(loss_function,optimizer,metrics)..>\n",
    "#Model.fit(x_train,y_train)\"Model training process\"..>\n",
    "#model prediction ..> calculate (loss,Accuracy)"
   ]
  },
  {
   "cell_type": "code",
   "execution_count": 1,
   "id": "ba11ffeb-b3a1-4e12-8c9a-c1a453cfe177",
   "metadata": {},
   "outputs": [],
   "source": [
    "#student_id    (.)x11.........>\n",
    "              #input_layer                  #(.)x21........>\n",
    "#cgpa          (.)x12..........>                (.)x31......> Result(y)\n",
    "                                #(.)x22........>\n",
    "#resume_score  (.)x13...........> #hidden layer        #output_layer"
   ]
  },
  {
   "cell_type": "code",
   "execution_count": 2,
   "id": "f305d84f-6c7e-4aa3-9735-1cda123bac5a",
   "metadata": {},
   "outputs": [],
   "source": [
    "#chain rule\n",
    "#dy/dx11 =dy/x31*dx31/dx21*dx21/dx11\n",
    "\n",
    "#dy/dx12=(dy/dx31*dx31/dx21*dx21/dx12)+(dy/dx31*dx31/dx22*dx22/dx12)\n",
    "\n",
    "#dy/dx13=(dy/dx31*dx31/dx21*dx21/dx13)+(dy/dx31*dx31/dx22*dx22/dx31)"
   ]
  },
  {
   "cell_type": "code",
   "execution_count": null,
   "id": "0b4e05c6-5b62-4ff9-86c3-445acc86f394",
   "metadata": {},
   "outputs": [],
   "source": []
  }
 ],
 "metadata": {
  "kernelspec": {
   "display_name": "Python 3 (ipykernel)",
   "language": "python",
   "name": "python3"
  },
  "language_info": {
   "codemirror_mode": {
    "name": "ipython",
    "version": 3
   },
   "file_extension": ".py",
   "mimetype": "text/x-python",
   "name": "python",
   "nbconvert_exporter": "python",
   "pygments_lexer": "ipython3",
   "version": "3.11.8"
  }
 },
 "nbformat": 4,
 "nbformat_minor": 5
}
